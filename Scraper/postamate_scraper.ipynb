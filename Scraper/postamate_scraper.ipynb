{
 "cells": [
  {
   "cell_type": "markdown",
   "id": "e6a2ab4c",
   "metadata": {},
   "source": [
    "# Postamate Scrapping\n",
    "In this notebook we are going to scrape news headlines, dates, contents, and urls from the [PostaMate](https://postamate.com/page/) website. Postamate is a news source in Kenya that delivers satirical and sarcastic news to Kenyans."
   ]
  },
  {
   "cell_type": "code",
   "execution_count": 1,
   "id": "448b9260",
   "metadata": {},
   "outputs": [
    {
     "name": "stderr",
     "output_type": "stream",
     "text": [
      "c:\\Users\\PC\\anaconda33\\envs\\learn-env\\lib\\site-packages\\requests\\__init__.py:89: RequestsDependencyWarning: urllib3 (2.2.3) or chardet (3.0.4) doesn't match a supported version!\n",
      "  warnings.warn(\"urllib3 ({}) or chardet ({}) doesn't match a supported \"\n"
     ]
    }
   ],
   "source": [
    "from bs4 import BeautifulSoup\n",
    "import requests\n",
    "import pandas as pd\n",
    "import time"
   ]
  },
  {
   "cell_type": "code",
   "execution_count": 15,
   "id": "e106973c",
   "metadata": {},
   "outputs": [],
   "source": [
    "base_url = \"https://postamate.com\"\n",
    "pages_to_scrape = 3  # You can increase later\n"
   ]
  },
  {
   "cell_type": "code",
   "execution_count": 16,
   "id": "84aafca7",
   "metadata": {},
   "outputs": [],
   "source": [
    "titles = []\n",
    "dates = []\n",
    "contents = []\n",
    "urls = []\n",
    "labels = []\n"
   ]
  },
  {
   "cell_type": "code",
   "execution_count": 17,
   "id": "5f0671e7",
   "metadata": {},
   "outputs": [],
   "source": [
    "response = requests.get(base_url)\n",
    "soup = BeautifulSoup(response.text, \"html.parser\")\n",
    "    \n",
    "# Find all articles on the page\n",
    "articles = soup.find_all(\"h2\", class_=\"entry-title\")\n",
    "    \n",
    "for article in articles:\n",
    "    link = article.find(\"a\")[\"href\"]\n",
    "    urls.append(link)\n"
   ]
  },
  {
   "cell_type": "code",
   "execution_count": 18,
   "id": "8c013202",
   "metadata": {},
   "outputs": [
    {
     "name": "stdout",
     "output_type": "stream",
     "text": [
      "Found 0 article URLs\n",
      "[]\n"
     ]
    }
   ],
   "source": [
    "print(f\"Found {len(urls)} article URLs\")\n",
    "print(urls[:5])  # Print a sample of first 5\n"
   ]
  },
  {
   "cell_type": "code",
   "execution_count": 5,
   "id": "5c9a46c4",
   "metadata": {},
   "outputs": [],
   "source": [
    "for link in urls:\n",
    "    response = requests.get(link)\n",
    "    soup = BeautifulSoup(response.text, \"html.parser\")\n",
    "    \n",
    "    # Extract title\n",
    "    title_tag = soup.find(\"h1\", class_=\"entry-title\")\n",
    "    title = title_tag.get_text(strip=True) if title_tag else \"No Title\"\n",
    "    \n",
    "    # Extract date\n",
    "    date_tag = soup.find(\"time\", class_=\"entry-date published\")\n",
    "    date = date_tag.get_text(strip=True) if date_tag else \"No Date\"\n",
    "    \n",
    "    # Extract article content\n",
    "    content_div = soup.find(\"div\", class_=\"td-post-content\")\n",
    "    paragraphs = content_div.find_all(\"p\") if content_div else []\n",
    "    content = \" \".join(p.get_text(strip=True) for p in paragraphs)\n",
    "\n",
    "    # Save to lists\n",
    "    titles.append(title)\n",
    "    dates.append(date)\n",
    "    contents.append(content)\n",
    "    labels.append(\"satire\")  # Because all Postamate articles are satire\n",
    "    \n",
    "    time.sleep(1)  # Be polite to the server\n"
   ]
  },
  {
   "cell_type": "code",
   "execution_count": 6,
   "id": "a1f1fd13",
   "metadata": {},
   "outputs": [
    {
     "name": "stdout",
     "output_type": "stream",
     "text": [
      "Scraping complete! Saved as 'postamate_satire_articles.csv'\n"
     ]
    }
   ],
   "source": [
    "df = pd.DataFrame({\n",
    "    \"title\": titles,\n",
    "    \"date\": dates,\n",
    "    \"url\": urls,\n",
    "    \"content\": contents,\n",
    "    \"label\": labels\n",
    "})\n",
    "\n",
    "df.to_csv(\"postamate_satire_articles.csv\", index=False)\n",
    "print(\"Scraping complete! Saved as 'postamate_satire_articles.csv'\")\n"
   ]
  }
 ],
 "metadata": {
  "kernelspec": {
   "display_name": "learn-env",
   "language": "python",
   "name": "python3"
  },
  "language_info": {
   "codemirror_mode": {
    "name": "ipython",
    "version": 3
   },
   "file_extension": ".py",
   "mimetype": "text/x-python",
   "name": "python",
   "nbconvert_exporter": "python",
   "pygments_lexer": "ipython3",
   "version": "3.8.5"
  }
 },
 "nbformat": 4,
 "nbformat_minor": 5
}
