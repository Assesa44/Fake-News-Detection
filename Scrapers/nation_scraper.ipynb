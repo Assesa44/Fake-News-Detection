{
 "cells": [
  {
   "cell_type": "code",
   "execution_count": 5,
   "id": "8928f065",
   "metadata": {},
   "outputs": [],
   "source": [
    "import requests\n",
    "from bs4 import BeautifulSoup\n",
    "import pandas as pd\n",
    "import time\n",
    "\n",
    "def scrape_nation():\n",
    "    base_url = \"https://nation.africa/kenya\"\n",
    "    headers = {\n",
    "    \"User-Agent\": \"Mozilla/5.0 (Windows NT 10.0; Win64; x64) \" \n",
    "                  \"AppleWebKit/537.36 (KHTML, like Gecko) \" \n",
    "                  \"Chrome/124.0.0.0 Safari/537.36\"\n",
    "}\n",
    "    response = requests.get(base_url, headers=headers)\n",
    "    soup = BeautifulSoup(response.content, \"html.parser\")\n",
    "\n",
    "    articles = []\n",
    "\n",
    "    # Step 1: Get all article links + titles from homepage\n",
    "    for tag in soup.select(\"a\"):\n",
    "        title = tag.text.strip()\n",
    "        url = tag.get(\"href\")\n",
    "\n",
    "        # Clean and validate\n",
    "        if (not url or not url.startswith(\"http\") or \n",
    "            \"/videos/\" in url or \n",
    "            \"/video/\" in url):\n",
    "            continue\n",
    "\n",
    "        if not title or len(title) < 15:\n",
    "            continue\n",
    "\n",
    "        # Step 2: Scrape each article\n",
    "        try:\n",
    "            article_response = requests.get(url, headers= headers)\n",
    "            article_soup = BeautifulSoup(article_response.content, \"html.parser\")\n",
    "\n",
    "            # Date extraction\n",
    "            date_tag = article_soup.select_one(\"time.date\")\n",
    "            date = date_tag.text.strip() if date_tag else \"\"\n",
    "\n",
    "            # Content extraction\n",
    "            paragraphs = article_soup.select(\"div.text-block.blk-txt div.paragraph-wrapper p\")\n",
    "            content = \"\\n\".join(p.text.strip() for p in paragraphs if p.text.strip())\n",
    "\n",
    "            # Final check — avoid saving empty articles\n",
    "            if not content:\n",
    "                continue\n",
    "\n",
    "            # Append to list\n",
    "            articles.append({\n",
    "                \"title\": title,\n",
    "                \"url\": url,\n",
    "                \"date\": date,\n",
    "                \"content\": content,\n",
    "                \"label\": \"real\",\n",
    "                \"source\": \"Nation\"\n",
    "            })\n",
    "\n",
    "            time.sleep(0.5)\n",
    "\n",
    "        except Exception as e:\n",
    "            print(f\"Error scraping {url}: {e}\")\n",
    "            continue\n",
    "\n",
    "    df = pd.DataFrame(articles)\n",
    "    return df\n"
   ]
  },
  {
   "cell_type": "code",
   "execution_count": 6,
   "id": "ebb7f365",
   "metadata": {},
   "outputs": [
    {
     "data": {
      "text/html": [
       "<div>\n",
       "<style scoped>\n",
       "    .dataframe tbody tr th:only-of-type {\n",
       "        vertical-align: middle;\n",
       "    }\n",
       "\n",
       "    .dataframe tbody tr th {\n",
       "        vertical-align: top;\n",
       "    }\n",
       "\n",
       "    .dataframe thead th {\n",
       "        text-align: right;\n",
       "    }\n",
       "</style>\n",
       "<table border=\"1\" class=\"dataframe\">\n",
       "  <thead>\n",
       "    <tr style=\"text-align: right;\">\n",
       "      <th></th>\n",
       "    </tr>\n",
       "  </thead>\n",
       "  <tbody>\n",
       "  </tbody>\n",
       "</table>\n",
       "</div>"
      ],
      "text/plain": [
       "Empty DataFrame\n",
       "Columns: []\n",
       "Index: []"
      ]
     },
     "execution_count": 6,
     "metadata": {},
     "output_type": "execute_result"
    }
   ],
   "source": [
    "df = scrape_nation()\n",
    "df.head()"
   ]
  },
  {
   "cell_type": "code",
   "execution_count": 7,
   "id": "bd4558fc",
   "metadata": {},
   "outputs": [
    {
     "data": {
      "text/plain": [
       "(0, 0)"
      ]
     },
     "execution_count": 7,
     "metadata": {},
     "output_type": "execute_result"
    }
   ],
   "source": [
    "df.shape"
   ]
  },
  {
   "cell_type": "code",
   "execution_count": null,
   "id": "8826e171",
   "metadata": {},
   "outputs": [],
   "source": [
    "print(soup.prettify()[:2000])  # show only first 2,000 characters\n"
   ]
  },
  {
   "cell_type": "code",
   "execution_count": 8,
   "id": "2c9e7d74",
   "metadata": {},
   "outputs": [
    {
     "name": "stdout",
     "output_type": "stream",
     "text": [
      "<!DOCTYPE html>\n",
      "<!--[if lt IE 7]> <html class=\"no-js ie6 oldie\" lang=\"en-US\"> <![endif]-->\n",
      "<!--[if IE 7]>    <html class=\"no-js ie7 oldie\" lang=\"en-US\"> <![endif]-->\n",
      "<!--[if IE 8]>    <html class=\"no-js ie8 oldie\" lang=\"en-US\"> <![endif]-->\n",
      "<!--[if gt IE 8]><!-->\n",
      "<html class=\"no-js\" lang=\"en-US\">\n",
      " <!--<![endif]-->\n",
      " <head>\n",
      "  <title>\n",
      "   Attention Required! | Cloudflare\n",
      "  </title>\n",
      "  <meta charset=\"utf-8\"/>\n",
      "  <meta content=\"text/html; charset=utf-8\" http-equiv=\"Content-Type\"/>\n",
      "  <meta content=\"IE=Edge\" http-equiv=\"X-UA-Compatible\"/>\n",
      "  <meta content=\"noindex, nofollow\" name=\"robots\"/>\n",
      "  <meta content=\"width=device-width,initial-scale=1\" name=\"viewport\"/>\n",
      "  <link href=\"/cdn-cgi/styles/cf.errors.css\" id=\"cf_styles-css\" rel=\"stylesheet\"/>\n",
      "  <!--[if lt IE 9]><link rel=\"stylesheet\" id='cf_styles-ie-css' href=\"/cdn-cgi/styles/cf.errors.ie.css\" /><![endif]-->\n",
      "  <style>\n",
      "   body{margin:0;padding:0}\n",
      "  </style>\n",
      "  <!--[if gte IE 10]><!-->\n",
      "  <script>\n",
      "   if (!navigator.cookieEnabled) {\n",
      "    window.addEventListener('DOMContentLoaded', function () {\n",
      "      var cookieEl = document.getElementById('cookie-alert');\n",
      "      cookieEl.style.display = 'block';\n",
      "    })\n",
      "  }\n",
      "  </script>\n",
      "  <!--<![endif]-->\n",
      " </head>\n",
      " <body>\n",
      "  <div id=\"cf-wrapper\">\n",
      "   <div class=\"cf-alert cf-alert-error cf-cookie-error\" data-translate=\"enable_cookies\" id=\"cookie-alert\">\n",
      "    Please enable cookies.\n",
      "   </div>\n",
      "   <div class=\"cf-error-details-wrapper\" id=\"cf-error-details\">\n",
      "    <div class=\"cf-wrapper cf-header cf-error-overview\">\n",
      "     <h1 data-translate=\"block_headline\">\n",
      "      Sorry, you have been blocked\n",
      "     </h1>\n",
      "     <h2 class=\"cf-subheadline\">\n",
      "      <span data-translate=\"unable_to_access\">\n",
      "       You are unable to access\n",
      "      </span>\n",
      "      nation.africa\n",
      "     </h2>\n",
      "    </div>\n",
      "    <!-- /.header -->\n",
      "    <div class=\"cf-section cf-highlight\">\n",
      "     <div class=\"cf-wrapper\">\n",
      "      <div class=\"cf-screenshot-container cf-screenshot-full\">\n",
      "       <span class=\"cf-no-screenshot error\">\n",
      "       </span>\n",
      "      </div>\n",
      "     </div>\n",
      "    </di\n"
     ]
    }
   ],
   "source": [
    "base_url = \"https://nation.africa/kenya\"\n",
    "headers = {\n",
    "    \"User-Agent\": \"Mozilla/5.0 (Windows NT 10.0; Win64; x64) \" \n",
    "                  \"AppleWebKit/537.36 (KHTML, like Gecko) \" \n",
    "                  \"Chrome/124.0.0.0 Safari/537.36\"\n",
    "}\n",
    "response = requests.get(base_url, headers=headers)\n",
    "soup = BeautifulSoup(response.content, \"html.parser\")\n",
    "print(soup.prettify()[:2000])  # show only first 2,000 characters"
   ]
  }
 ],
 "metadata": {
  "kernelspec": {
   "display_name": "learn-env",
   "language": "python",
   "name": "python3"
  },
  "language_info": {
   "codemirror_mode": {
    "name": "ipython",
    "version": 3
   },
   "file_extension": ".py",
   "mimetype": "text/x-python",
   "name": "python",
   "nbconvert_exporter": "python",
   "pygments_lexer": "ipython3",
   "version": "3.8.5"
  }
 },
 "nbformat": 4,
 "nbformat_minor": 5
}
