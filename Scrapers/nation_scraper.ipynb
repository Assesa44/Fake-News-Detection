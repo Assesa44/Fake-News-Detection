{
 "cells": [
  {
   "cell_type": "code",
   "execution_count": 9,
   "id": "4fd8badd",
   "metadata": {},
   "outputs": [
    {
     "name": "stderr",
     "output_type": "stream",
     "text": [
      "Error sending stats to Plausible: error sending request for url (https://plausible.io/api/event)\n"
     ]
    },
    {
     "name": "stdout",
     "output_type": "stream",
     "text": [
      "Page Title: Attention Required! | Cloudflare\n"
     ]
    }
   ],
   "source": [
    "from selenium import webdriver\n",
    "from selenium.webdriver.chrome.options import Options\n",
    "\n",
    "options = Options()\n",
    "options.add_argument('--headless')  # Don't open a browser window\n",
    "options.add_argument('--disable-gpu')\n",
    "driver = webdriver.Chrome(options=options)\n",
    "\n",
    "driver.get(\"https://nation.africa/kenya\")\n",
    "print(\"Page Title:\", driver.title)\n",
    "\n",
    "driver.quit()\n"
   ]
  },
  {
   "cell_type": "code",
   "execution_count": 11,
   "id": "7ab5db53",
   "metadata": {},
   "outputs": [
    {
     "name": "stdout",
     "output_type": "stream",
     "text": [
      "Page Title: Nation - Breaking News, Kenya, Africa, Politics, Business, Sports | HOME | Daily Nation\n"
     ]
    }
   ],
   "source": [
    "from selenium import webdriver\n",
    "from selenium.webdriver.chrome.service import Service\n",
    "from selenium.webdriver.chrome.options import Options\n",
    "from webdriver_manager.chrome import ChromeDriverManager\n",
    "import random\n",
    "\n",
    "# Some real browser-like user agents\n",
    "user_agents = [\n",
    "    \"Mozilla/5.0 (Windows NT 10.0; Win64; x64) AppleWebKit/537.36 (KHTML, like Gecko) Chrome/114.0.5735.199 Safari/537.36\",\n",
    "    \"Mozilla/5.0 (X11; Linux x86_64) AppleWebKit/537.36 (KHTML, like Gecko) Chrome/117.0.5938.149 Safari/537.36\",\n",
    "    \"Mozilla/5.0 (Macintosh; Intel Mac OS X 13_4) AppleWebKit/605.1.15 (KHTML, like Gecko) Version/16.4 Safari/605.1.15\",\n",
    "]\n",
    "\n",
    "options = Options()\n",
    "options.add_argument(f\"user-agent={random.choice(user_agents)}\")\n",
    "# Run visible browser to avoid headless detection\n",
    "# options.add_argument('--headless')  # 👈 turn OFF headless for now\n",
    "options.add_argument('--disable-blink-features=AutomationControlled')\n",
    "options.add_experimental_option(\"excludeSwitches\", [\"enable-automation\"])\n",
    "options.add_experimental_option(\"useAutomationExtension\", False)\n",
    "\n",
    "driver = webdriver.Chrome(service=Service(ChromeDriverManager().install()), options=options)\n",
    "\n",
    "# Remove navigator.webdriver flag (tells site it's a bot)\n",
    "driver.execute_script(\"Object.defineProperty(navigator, 'webdriver', {get: () => undefined})\")\n",
    "\n",
    "# Open Nation page\n",
    "driver.get(\"https://nation.africa/kenya\")\n",
    "print(\"Page Title:\", driver.title)\n",
    "\n",
    "driver.quit()\n"
   ]
  },
  {
   "cell_type": "code",
   "execution_count": 12,
   "id": "d9998ef7",
   "metadata": {},
   "outputs": [
    {
     "name": "stdout",
     "output_type": "stream",
     "text": [
      "✅ Done. Saved as nation_articles.csv\n"
     ]
    }
   ],
   "source": [
    "import time\n",
    "import pandas as pd\n",
    "from selenium import webdriver\n",
    "from selenium.webdriver.chrome.options import Options\n",
    "from selenium.webdriver.chrome.service import Service\n",
    "from webdriver_manager.chrome import ChromeDriverManager\n",
    "from bs4 import BeautifulSoup\n",
    "import random\n",
    "\n",
    "# Setup browser with stealth\n",
    "user_agents = [\n",
    "    \"Mozilla/5.0 (Windows NT 10.0; Win64; x64)...\",\n",
    "    \"Mozilla/5.0 (Macintosh; Intel Mac OS X 13_4)...\",\n",
    "]\n",
    "options = Options()\n",
    "options.add_argument(f\"user-agent={random.choice(user_agents)}\")\n",
    "options.add_experimental_option(\"excludeSwitches\", [\"enable-automation\"])\n",
    "options.add_experimental_option(\"useAutomationExtension\", False)\n",
    "\n",
    "driver = webdriver.Chrome(service=Service(ChromeDriverManager().install()), options=options)\n",
    "driver.execute_script(\"Object.defineProperty(navigator, 'webdriver', {get: () => undefined})\")\n",
    "\n",
    "# Visit Nation homepage\n",
    "driver.get(\"https://nation.africa/kenya\")\n",
    "time.sleep(3)\n",
    "\n",
    "soup = BeautifulSoup(driver.page_source, 'html.parser')\n",
    "article_blocks = soup.find_all(\"a\", class_=\"story-link\")  # may need adjusting\n",
    "\n",
    "titles, urls, dates, contents, sources = [], [], [], [], []\n",
    "\n",
    "for article in article_blocks[:10]:  # scrape 10 for test\n",
    "    try:\n",
    "        title = article.get_text(strip=True)\n",
    "        url = article.get('href')\n",
    "        if not url.startswith(\"http\"):\n",
    "            url = \"https://nation.africa\" + url\n",
    "\n",
    "        # Visit article page\n",
    "        driver.get(url)\n",
    "        time.sleep(3)\n",
    "        article_soup = BeautifulSoup(driver.page_source, 'html.parser')\n",
    "\n",
    "        date = article_soup.find(\"time\", class_=\"date\")\n",
    "        date_text = date.get_text(strip=True) if date else \"N/A\"\n",
    "\n",
    "        paragraphs = article_soup.select(\"div.text-block.blk-txt div.paragraph-wrapper p\")\n",
    "        content_text = \" \".join([p.get_text(strip=True) for p in paragraphs])\n",
    "\n",
    "        titles.append(title)\n",
    "        urls.append(url)\n",
    "        dates.append(date_text)\n",
    "        contents.append(content_text)\n",
    "        sources.append(\"Nation\")\n",
    "\n",
    "    except Exception as e:\n",
    "        print(f\"Error: {e}\")\n",
    "        continue\n",
    "\n",
    "driver.quit()\n",
    "\n",
    "# Save to DataFrame\n",
    "df = pd.DataFrame({\n",
    "    \"title\": titles,\n",
    "    \"url\": urls,\n",
    "    \"date\": dates,\n",
    "    \"content\": contents,\n",
    "    \"source\": sources\n",
    "})\n",
    "\n",
    "df.to_csv(\"nation_articles.csv\", index=False)\n",
    "print(\"✅ Done. Saved as nation_articles.csv\")\n"
   ]
  },
  {
   "cell_type": "code",
   "execution_count": 13,
   "id": "a0d631f4",
   "metadata": {},
   "outputs": [
    {
     "name": "stdout",
     "output_type": "stream",
     "text": [
      "📰 Kuria resigns as Ruto’s senior adviserThe former Gatundu South MP could be setting the stage for a comeback in the political arena.News4 hours ago\n",
      "🔗 https://nation.africa/kenya/news/moses-kuria-resigns-as-president-ruto-s-senior-adviser--5110976\n",
      "\n",
      "📰 Opposition leaders call for boycott of Kenya Kwanza-linked businessesNews2 hours ago\n",
      "🔗 https://nation.africa/kenya/news/opposition-leaders-call-for-boycott-of-kenya-kwanza-linked-businesses-5110774\n",
      "\n",
      "📰 Embu protests enter second day over MP Gitonga Mukunji’s detentionEmbu10 hours ago\n",
      "🔗 https://nation.africa/kenya/counties/embu/embu-protests-enter-second-day-over-mp-gitonga-mukunji-s-detention-5110188\n",
      "\n",
      "📰 PREMIUMCourt freezes firm's bank account after failing to deliver goldAfriswiss Commodities Ltd was to deliver 25 kilos of gold to a Dubai firm.News9 hours agoListen\n",
      "🔗 https://nation.africa/kenya/news/court-freezes-firm-s-bank-account-after-failing-to-deliver-gold--5110608\n",
      "\n",
      "📰 PREMIUMOjwang widow’s burial rites reignites Luo customs debate'I had no strength to perform the ritual.' - Nevnina OnyangoHoma Bay16 hours ago\n",
      "🔗 https://nation.africa/kenya/counties/homa-bay/ojwang-widow-s-burial-rites-omission-reignites-luo-customs-debate-5106868\n",
      "\n"
     ]
    }
   ],
   "source": [
    "from selenium import webdriver\n",
    "from selenium.webdriver.chrome.options import Options\n",
    "from selenium.webdriver.chrome.service import Service\n",
    "from webdriver_manager.chrome import ChromeDriverManager\n",
    "from bs4 import BeautifulSoup\n",
    "import time\n",
    "import random\n",
    "\n",
    "options = Options()\n",
    "user_agents = [\n",
    "    \"Mozilla/5.0 (Windows NT 10.0; Win64; x64)\",\n",
    "    \"Mozilla/5.0 (Macintosh; Intel Mac OS X 13_4)\",\n",
    "]\n",
    "options.add_argument(f\"user-agent={random.choice(user_agents)}\")\n",
    "options.add_experimental_option(\"excludeSwitches\", [\"enable-automation\"])\n",
    "options.add_experimental_option(\"useAutomationExtension\", False)\n",
    "\n",
    "driver = webdriver.Chrome(service=Service(ChromeDriverManager().install()), options=options)\n",
    "driver.execute_script(\"Object.defineProperty(navigator, 'webdriver', {get: () => undefined})\")\n",
    "\n",
    "driver.get(\"https://nation.africa/kenya\")\n",
    "time.sleep(3)\n",
    "\n",
    "soup = BeautifulSoup(driver.page_source, \"html.parser\")\n",
    "all_links = soup.find_all(\"a\", href=True)\n",
    "\n",
    "titles, urls = [], []\n",
    "\n",
    "for link in all_links:\n",
    "    href = link['href']\n",
    "    if href.startswith(\"/kenya\") and link.find(\"h3\"):  # ensures it's a proper article block\n",
    "        url = \"https://nation.africa\" + href\n",
    "        title = link.get_text(strip=True)\n",
    "        urls.append(url)\n",
    "        titles.append(title)\n",
    "\n",
    "driver.quit()\n",
    "\n",
    "# Confirm what we captured\n",
    "for t, u in zip(titles[:5], urls[:5]):\n",
    "    print(f\"📰 {t}\\n🔗 {u}\\n\")\n"
   ]
  }
 ],
 "metadata": {
  "kernelspec": {
   "display_name": "learn-env",
   "language": "python",
   "name": "python3"
  },
  "language_info": {
   "codemirror_mode": {
    "name": "ipython",
    "version": 3
   },
   "file_extension": ".py",
   "mimetype": "text/x-python",
   "name": "python",
   "nbconvert_exporter": "python",
   "pygments_lexer": "ipython3",
   "version": "3.8.5"
  }
 },
 "nbformat": 4,
 "nbformat_minor": 5
}
